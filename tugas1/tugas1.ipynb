{
 "cells": [
  {
   "cell_type": "markdown",
   "metadata": {},
   "source": [
    "Tugas Group Project 1\n",
    "=====================\n",
    "## Anggota Kelompok\n",
    "1. Muhammad Faqih (5026211001)\n",
    "2. I Gusti Agung Jaya Hiswara (5026211122)\n",
    "3. Candline\n",
    "4. Afaf\n",
    "\n",
    "## Deskripsi Tugas 1: Eksplorasi dan Prapemrosesan Data Kriminal Los Angeles\n",
    "Tugas 1 ini bertujuan untuk melakukan eksplorasi dan prapemrosesan dataset kejahatan di Los Angeles dari tahun 2020 hingga sekarang. Proyek ini berfokus pada analisis data untuk mengidentifikasi pola-pola kriminal dan mempersiapkan dataset yang bersih dan siap untuk model prediksi. Data yang diolah mencakup atribut seperti jenis kejahatan (Crm Cd atau Crm Cd Desc) yang akan digunakan sebagai label kelas, waktu, lokasi, dan data korban.\n",
    "\n",
    "## Tahapan & Langkah-langkah\n",
    "1. Eksplorasi Data\n",
    "Pada bagian ini, kita akan melakukan langkah-langkah berikut:\n",
    "Memuat dataset dan menampilkan beberapa baris pertama.\n",
    "Memeriksa kolom dan tipe data untuk memahami struktur data.\n",
    "Menganalisis distribusi kelas target (Crm Cd atau Crm Cd Desc).\n",
    "Memeriksa missing values dan menentukan kolom yang memerlukan perhatian khusus.\n",
    "Melakukan analisis statistik deskriptif untuk fitur numerik.\n",
    "Menyediakan visualisasi awal seperti histogram dan bar plot untuk memahami pola-pola utama dalam data.\n",
    "\n",
    "2. Pembersihan Data\n",
    "Bagian ini akan mencakup:\n",
    "Penanganan missing values dengan berbagai strategi seperti penghapusan atau pengisian nilai.\n",
    "Mengidentifikasi dan menghapus data yang tidak relevan.\n",
    "Menghapus data duplikat.\n",
    "Mengatasi outlier dalam fitur numerik seperti usia korban atau waktu kejahatan.\n",
    "\n",
    "3. Transformasi Data\n",
    "Pada tahap ini, kita akan melakukan:\n",
    "Konversi waktu dan tanggal ke dalam format yang dapat dianalisis, serta mengekstrak fitur baru seperti hari, bulan, dan jam kejadian.\n",
    "One-hot encoding untuk variabel kategorikal.\n",
    "Normalisasi atau standarisasi untuk kolom numerik.\n",
    "Feature engineering dengan membuat fitur baru berdasarkan waktu atau lokasi, seperti biner siang/malam.\n",
    "\n",
    "4. Visualisasi dan Analisis Awal\n",
    "Visualisasi lebih dalam akan dilakukan, termasuk:\n",
    "Distribusi kejahatan berdasarkan waktu, untuk melihat tren temporal.\n",
    "Pemetaan kejahatan berdasarkan lokasi, jika data lokasi tersedia, menggunakan heatmap atau scatter plot.\n",
    "Membuat matriks korelasi untuk memahami hubungan antar fitur.\n",
    "\n",
    "5. Evaluasi dan Kesimpulan\n",
    "Akhir dari notebook ini akan menyiapkan:\n",
    "Simpulan dari eksplorasi data, dengan penjelasan fitur-fitur yang paling relevan untuk prediksi.\n",
    "Menyediakan dataset akhir yang bersih dan siap untuk pemodelan.\n",
    "Menyimpan dataset hasil prapemrosesan dalam format CSV.\n",
    "\n",
    "## Output yang Diharapkan\n",
    "\n",
    "Dokumentasi Jupyter Notebook dari seluruh proses eksplorasi dan pembersihan data.\n",
    "Visualisasi yang memberikan wawasan mendalam terhadap pola-pola dalam data kejahatan.\n",
    "Dataset bersih yang siap digunakan untuk pemodelan prediksi jenis kejahatan."
   ]
  },
  {
   "cell_type": "markdown",
   "metadata": {},
   "source": [
    "## Install & Import Library\n"
   ]
  },
  {
   "cell_type": "code",
   "execution_count": 13,
   "metadata": {},
   "outputs": [],
   "source": [
    "#Install Library\n",
    "# %pip install pandas\n",
    "# %pip install numpy\n",
    "# %pip install matplotlib\n",
    "# %pip install seaborn\n",
    "# %pip install sklearn\n",
    "\n",
    "#Import Library\n",
    "import pandas as pd\n",
    "import numpy as np\n",
    "import matplotlib.pyplot as plt\n",
    "import seaborn as sns\n",
    "from sklearn.model_selection import train_test_split\n"
   ]
  },
  {
   "cell_type": "markdown",
   "metadata": {},
   "source": [
    "# 1. Eksplorasi Data (Data Exploration)"
   ]
  },
  {
   "cell_type": "markdown",
   "metadata": {},
   "source": [
    "## Memuat Dataset"
   ]
  },
  {
   "cell_type": "code",
   "execution_count": 14,
   "metadata": {},
   "outputs": [
    {
     "name": "stdout",
     "output_type": "stream",
     "text": [
      "        DR_NO               Date Rptd                DATE OCC  TIME OCC  AREA  \\\n",
      "0   190326475  03/01/2020 12:00:00 AM  03/01/2020 12:00:00 AM      2130     7   \n",
      "1   200106753  02/09/2020 12:00:00 AM  02/08/2020 12:00:00 AM      1800     1   \n",
      "2   200320258  11/11/2020 12:00:00 AM  11/04/2020 12:00:00 AM      1700     3   \n",
      "3   200907217  05/10/2023 12:00:00 AM  03/10/2020 12:00:00 AM      2037     9   \n",
      "4   220614831  08/18/2022 12:00:00 AM  08/17/2020 12:00:00 AM      1200     6   \n",
      "5   231808869  04/04/2023 12:00:00 AM  12/01/2020 12:00:00 AM      2300    18   \n",
      "6   230110144  04/04/2023 12:00:00 AM  07/03/2020 12:00:00 AM       900     1   \n",
      "7   220314085  07/22/2022 12:00:00 AM  05/12/2020 12:00:00 AM      1110     3   \n",
      "8   231309864  04/28/2023 12:00:00 AM  12/09/2020 12:00:00 AM      1400    13   \n",
      "9   211904005  12/31/2020 12:00:00 AM  12/31/2020 12:00:00 AM      1220    19   \n",
      "10  221804943  01/21/2022 12:00:00 AM  07/01/2020 12:00:00 AM      1335    18   \n",
      "11  221908151  04/12/2022 12:00:00 AM  10/01/2020 12:00:00 AM         1    19   \n",
      "12  230204214  01/05/2023 12:00:00 AM  02/01/2020 12:00:00 AM       800     2   \n",
      "13  221008844  05/06/2022 12:00:00 AM  11/01/2020 12:00:00 AM       130    10   \n",
      "14  230312288  06/01/2023 12:00:00 AM  02/02/2020 12:00:00 AM       315     3   \n",
      "\n",
      "      AREA NAME  Rpt Dist No  Part 1-2  Crm Cd  \\\n",
      "0      Wilshire          784         1     510   \n",
      "1       Central          182         1     330   \n",
      "2     Southwest          356         1     480   \n",
      "3      Van Nuys          964         1     343   \n",
      "4     Hollywood          666         2     354   \n",
      "5     Southeast         1826         2     354   \n",
      "6       Central          182         2     354   \n",
      "7     Southwest          303         2     354   \n",
      "8        Newton         1375         2     354   \n",
      "9       Mission         1974         2     624   \n",
      "10    Southeast         1822         2     354   \n",
      "11      Mission         1988         1     821   \n",
      "12      Rampart          201         2     812   \n",
      "13  West Valley         1029         1     510   \n",
      "14    Southwest          391         2     354   \n",
      "\n",
      "                                          Crm Cd Desc  ... Status  \\\n",
      "0                                    VEHICLE - STOLEN  ...     AA   \n",
      "1                               BURGLARY FROM VEHICLE  ...     IC   \n",
      "2                                       BIKE - STOLEN  ...     IC   \n",
      "3            SHOPLIFTING-GRAND THEFT ($950.01 & OVER)  ...     IC   \n",
      "4                                   THEFT OF IDENTITY  ...     IC   \n",
      "5                                   THEFT OF IDENTITY  ...     IC   \n",
      "6                                   THEFT OF IDENTITY  ...     IC   \n",
      "7                                   THEFT OF IDENTITY  ...     IC   \n",
      "8                                   THEFT OF IDENTITY  ...     IC   \n",
      "9                            BATTERY - SIMPLE ASSAULT  ...     IC   \n",
      "10                                  THEFT OF IDENTITY  ...     IC   \n",
      "11  SODOMY/SEXUAL CONTACT B/W PENIS OF ONE PERS TO...  ...     IC   \n",
      "12  CRM AGNST CHLD (13 OR UNDER) (14-15 & SUSP 10 ...  ...     IC   \n",
      "13                                   VEHICLE - STOLEN  ...     IC   \n",
      "14                                  THEFT OF IDENTITY  ...     IC   \n",
      "\n",
      "     Status Desc Crm Cd 1 Crm Cd 2  Crm Cd 3 Crm Cd 4  \\\n",
      "0   Adult Arrest    510.0    998.0       NaN      NaN   \n",
      "1    Invest Cont    330.0    998.0       NaN      NaN   \n",
      "2    Invest Cont    480.0      NaN       NaN      NaN   \n",
      "3    Invest Cont    343.0      NaN       NaN      NaN   \n",
      "4    Invest Cont    354.0      NaN       NaN      NaN   \n",
      "5    Invest Cont    354.0      NaN       NaN      NaN   \n",
      "6    Invest Cont    354.0      NaN       NaN      NaN   \n",
      "7    Invest Cont    354.0      NaN       NaN      NaN   \n",
      "8    Invest Cont    354.0      NaN       NaN      NaN   \n",
      "9    Invest Cont    624.0      NaN       NaN      NaN   \n",
      "10   Invest Cont    354.0      NaN       NaN      NaN   \n",
      "11   Invest Cont    812.0    821.0       NaN      NaN   \n",
      "12   Invest Cont    812.0    860.0       NaN      NaN   \n",
      "13   Invest Cont    510.0      NaN       NaN      NaN   \n",
      "14   Invest Cont    354.0      NaN       NaN      NaN   \n",
      "\n",
      "                                    LOCATION                     Cross Street  \\\n",
      "0    1900 S  LONGWOOD                     AV                              NaN   \n",
      "1    1000 S  FLOWER                       ST                              NaN   \n",
      "2    1400 W  37TH                         ST                              NaN   \n",
      "3   14000    RIVERSIDE                    DR                              NaN   \n",
      "4                          1900    TRANSIENT                              NaN   \n",
      "5    9900    COMPTON                      AV                              NaN   \n",
      "6    1100 S  GRAND                        AV                              NaN   \n",
      "7    2500 S  SYCAMORE                     AV                              NaN   \n",
      "8    1300 E  57TH                         ST                              NaN   \n",
      "9    9000    CEDROS                       AV                              NaN   \n",
      "10    100 W  COLDEN                       AV                              NaN   \n",
      "11  13400    RANGOON                      ST                              NaN   \n",
      "12    900 N  MARIPOSA                     AV                              NaN   \n",
      "13           VALJEAN                      ST  VANOWEN                      AV   \n",
      "14   4200    SANTO TOMAS                  DR                              NaN   \n",
      "\n",
      "        LAT       LON  \n",
      "0   34.0375 -118.3506  \n",
      "1   34.0444 -118.2628  \n",
      "2   34.0210 -118.3002  \n",
      "3   34.1576 -118.4387  \n",
      "4   34.0944 -118.3277  \n",
      "5   33.9467 -118.2463  \n",
      "6   34.0415 -118.2620  \n",
      "7   34.0335 -118.3537  \n",
      "8   33.9911 -118.2521  \n",
      "9   34.2336 -118.4535  \n",
      "10  33.9492 -118.2739  \n",
      "11  34.2285 -118.4258  \n",
      "12  34.0868 -118.2991  \n",
      "13  34.1939 -118.4859  \n",
      "14  34.0103 -118.3456  \n",
      "\n",
      "[15 rows x 28 columns]\n"
     ]
    }
   ],
   "source": [
    "# Load the Crime Data\n",
    "df = pd.read_csv('tugas1/Crime_Data_from_2020_to_Present.csv')\n",
    "\n",
    "#Show the first 15 rows of the data\n",
    "print(df.head(15))"
   ]
  },
  {
   "cell_type": "markdown",
   "metadata": {},
   "source": [
    "## Memeriksa Kolom dan Tipe Data"
   ]
  },
  {
   "cell_type": "code",
   "execution_count": 15,
   "metadata": {},
   "outputs": [
    {
     "name": "stdout",
     "output_type": "stream",
     "text": [
      "<class 'pandas.core.frame.DataFrame'>\n",
      "RangeIndex: 978628 entries, 0 to 978627\n",
      "Data columns (total 28 columns):\n",
      " #   Column          Non-Null Count   Dtype  \n",
      "---  ------          --------------   -----  \n",
      " 0   DR_NO           978628 non-null  int64  \n",
      " 1   Date Rptd       978628 non-null  object \n",
      " 2   DATE OCC        978628 non-null  object \n",
      " 3   TIME OCC        978628 non-null  int64  \n",
      " 4   AREA            978628 non-null  int64  \n",
      " 5   AREA NAME       978628 non-null  object \n",
      " 6   Rpt Dist No     978628 non-null  int64  \n",
      " 7   Part 1-2        978628 non-null  int64  \n",
      " 8   Crm Cd          978628 non-null  int64  \n",
      " 9   Crm Cd Desc     978628 non-null  object \n",
      " 10  Mocodes         834648 non-null  object \n",
      " 11  Vict Age        978628 non-null  int64  \n",
      " 12  Vict Sex        841430 non-null  object \n",
      " 13  Vict Descent    841419 non-null  object \n",
      " 14  Premis Cd       978613 non-null  float64\n",
      " 15  Premis Desc     978043 non-null  object \n",
      " 16  Weapon Used Cd  325959 non-null  float64\n",
      " 17  Weapon Desc     325959 non-null  object \n",
      " 18  Status          978627 non-null  object \n",
      " 19  Status Desc     978628 non-null  object \n",
      " 20  Crm Cd 1        978617 non-null  float64\n",
      " 21  Crm Cd 2        68816 non-null   float64\n",
      " 22  Crm Cd 3        2309 non-null    float64\n",
      " 23  Crm Cd 4        64 non-null      float64\n",
      " 24  LOCATION        978628 non-null  object \n",
      " 25  Cross Street    151427 non-null  object \n",
      " 26  LAT             978628 non-null  float64\n",
      " 27  LON             978628 non-null  float64\n",
      "dtypes: float64(8), int64(7), object(13)\n",
      "memory usage: 209.1+ MB\n",
      "DR_NO                  0\n",
      "Date Rptd              0\n",
      "DATE OCC               0\n",
      "TIME OCC               0\n",
      "AREA                   0\n",
      "AREA NAME              0\n",
      "Rpt Dist No            0\n",
      "Part 1-2               0\n",
      "Crm Cd                 0\n",
      "Crm Cd Desc            0\n",
      "Mocodes           143980\n",
      "Vict Age               0\n",
      "Vict Sex          137198\n",
      "Vict Descent      137209\n",
      "Premis Cd             15\n",
      "Premis Desc          585\n",
      "Weapon Used Cd    652669\n",
      "Weapon Desc       652669\n",
      "Status                 1\n",
      "Status Desc            0\n",
      "Crm Cd 1              11\n",
      "Crm Cd 2          909812\n",
      "Crm Cd 3          976319\n",
      "Crm Cd 4          978564\n",
      "LOCATION               0\n",
      "Cross Street      827201\n",
      "LAT                    0\n",
      "LON                    0\n",
      "dtype: int64\n"
     ]
    }
   ],
   "source": [
    "# Memeriksa Kolom dan Tipe Data: Identifikasi kolom apa saja yang tersedia dan tipe data masing-masing kolom. \n",
    "df.info()"
   ]
  },
  {
   "cell_type": "code",
   "execution_count": 21,
   "metadata": {},
   "outputs": [
    {
     "name": "stdout",
     "output_type": "stream",
     "text": [
      "DR_NO                  0\n",
      "Date Rptd              0\n",
      "DATE OCC               0\n",
      "TIME OCC               0\n",
      "AREA                   0\n",
      "AREA NAME              0\n",
      "Rpt Dist No            0\n",
      "Part 1-2               0\n",
      "Crm Cd                 0\n",
      "Crm Cd Desc            0\n",
      "Mocodes           143980\n",
      "Vict Age               0\n",
      "Vict Sex          137198\n",
      "Vict Descent      137209\n",
      "Premis Cd             15\n",
      "Premis Desc          585\n",
      "Weapon Used Cd    652669\n",
      "Weapon Desc       652669\n",
      "Status                 1\n",
      "Status Desc            0\n",
      "Crm Cd 1              11\n",
      "Crm Cd 2          909812\n",
      "Crm Cd 3          976319\n",
      "Crm Cd 4          978564\n",
      "LOCATION               0\n",
      "Cross Street      827201\n",
      "LAT                    0\n",
      "LON                    0\n",
      "dtype: int64\n"
     ]
    }
   ],
   "source": [
    "#  Cek Missing Value: Identifikasi apakah ada missing value pada dataset.\n",
    "print(df.isnull().sum())"
   ]
  },
  {
   "cell_type": "code",
   "execution_count": 23,
   "metadata": {},
   "outputs": [
    {
     "name": "stdout",
     "output_type": "stream",
     "text": [
      "<class 'pandas.core.frame.DataFrame'>\n",
      "Index: 10 entries, 66026 to 922659\n",
      "Data columns (total 28 columns):\n",
      " #   Column          Non-Null Count  Dtype  \n",
      "---  ------          --------------  -----  \n",
      " 0   DR_NO           10 non-null     int64  \n",
      " 1   Date Rptd       10 non-null     object \n",
      " 2   DATE OCC        10 non-null     object \n",
      " 3   TIME OCC        10 non-null     int64  \n",
      " 4   AREA            10 non-null     int64  \n",
      " 5   AREA NAME       10 non-null     object \n",
      " 6   Rpt Dist No     10 non-null     int64  \n",
      " 7   Part 1-2        10 non-null     int64  \n",
      " 8   Crm Cd          10 non-null     int64  \n",
      " 9   Crm Cd Desc     10 non-null     object \n",
      " 10  Mocodes         10 non-null     object \n",
      " 11  Vict Age        10 non-null     int64  \n",
      " 12  Vict Sex        10 non-null     object \n",
      " 13  Vict Descent    10 non-null     object \n",
      " 14  Premis Cd       10 non-null     float64\n",
      " 15  Premis Desc     10 non-null     object \n",
      " 16  Weapon Used Cd  10 non-null     float64\n",
      " 17  Weapon Desc     10 non-null     object \n",
      " 18  Status          10 non-null     object \n",
      " 19  Status Desc     10 non-null     object \n",
      " 20  Crm Cd 1        10 non-null     float64\n",
      " 21  Crm Cd 2        10 non-null     float64\n",
      " 22  Crm Cd 3        10 non-null     float64\n",
      " 23  Crm Cd 4        10 non-null     float64\n",
      " 24  LOCATION        10 non-null     object \n",
      " 25  Cross Street    10 non-null     object \n",
      " 26  LAT             10 non-null     float64\n",
      " 27  LON             10 non-null     float64\n",
      "dtypes: float64(8), int64(7), object(13)\n",
      "memory usage: 2.3+ KB\n"
     ]
    }
   ],
   "source": [
    "# Drop Missing Value: Jika ada kolom yang memiliki missing value, maka buanglah missing value tersebut.\n",
    "df = df.dropna()\n",
    "\n",
    "df.info()"
   ]
  },
  {
   "cell_type": "code",
   "execution_count": 25,
   "metadata": {},
   "outputs": [
    {
     "name": "stdout",
     "output_type": "stream",
     "text": [
      "<class 'pandas.core.frame.DataFrame'>\n",
      "Index: 10 entries, 66026 to 922659\n",
      "Data columns (total 1 columns):\n",
      " #   Column       Non-Null Count  Dtype \n",
      "---  ------       --------------  ----- \n",
      " 0   Crm Cd Desc  10 non-null     object\n",
      "dtypes: object(1)\n",
      "memory usage: 160.0+ bytes\n"
     ]
    }
   ],
   "source": [
    "# Pastikan kolom Crm Cd Desc atau Crm Cd akan digunakan sebagai target kelas.\n",
    "\n",
    "# Copy Data: Copy dataset ke dalam variabel baru (df_model).\n",
    "df_target = df.copy()\n",
    "\n",
    "# Drop Kolom: Buang kolom-kolom yang tidak akan digunakan dalam pemodelan.\n",
    "df_target = df_target.drop(['AREA', 'DR_NO','Date Rptd','DATE OCC','TIME OCC','AREA NAME','Rpt Dist No','Part 1-2','Crm Cd','Mocodes','Vict Age','Vict Sex','Vict Descent','Premis Cd','Premis Desc','Weapon Used Cd','Weapon Desc','Status','Status Desc','Crm Cd 1','Crm Cd 2','Crm Cd 3','Crm Cd 4','LOCATION','Cross Street','LAT','LON'], axis=1)\n",
    "\n",
    "df_target.info()"
   ]
  },
  {
   "cell_type": "markdown",
   "metadata": {},
   "source": [
    "# Distribusi Target Kelas:\n",
    "Buat distribusi kelas dari Crm Cd Desc atau Crm Cd untuk mengetahui frekuensi masing-masing jenis kejahatan.\n",
    "Periksa apakah terdapat kelas yang dominan? Apakah distribusi kelas seimbang atau tidak?"
   ]
  },
  {
   "cell_type": "code",
   "execution_count": 28,
   "metadata": {},
   "outputs": [
    {
     "data": {
      "image/png": "[encoded data removed]",
      "text/plain": [
       "<Figure size 1200x800 with 1 Axes>"
      ]
     },
     "metadata": {},
     "output_type": "display_data"
    }
   ],
   "source": [
    "#  Buat distribusi kelas dari Crm Cd Desc atau Crm Cd untuk mengetahui frekuensi masing-masing jenis kejahatan.\n",
    "df_target['Crm Cd Desc'].value_counts()\n",
    "\n",
    "#  Buat visualisasi distribusi kelas dari Crm Cd Desc atau Crm Cd.\n",
    "plt.figure(figsize=(12,8))\n",
    "sns.countplot(y='Crm Cd Desc', data=df_target, order=df_target['Crm Cd Desc'].value_counts().index)\n",
    "plt.show()\n",
    "\n"
   ]
  },
  {
   "cell_type": "code",
   "execution_count": 30,
   "metadata": {},
   "outputs": [
    {
     "name": "stdout",
     "output_type": "stream",
     "text": [
      "Distribusi kelas tidak seimbang\n"
     ]
    }
   ],
   "source": [
    "# Periksa apakah terdapat kelas yang dominan? Apakah distribusi kelas seimbang atau tidak?\n",
    "is_balanced = df_target['Crm Cd Desc'].value_counts().max() / df_target['Crm Cd Desc'].value_counts().sum() < 0.8\n",
    "\n",
    "if is_balanced:\n",
    "    print('Distribusi kelas tidak seimbang')\n",
    "else:\n",
    "    print('Distribusi kelas seimbang')"
   ]
  }
 ],
 "metadata": {
  "kernelspec": {
   "display_name": "Python 3",
   "language": "python",
   "name": "python3"
  },
  "language_info": {
   "codemirror_mode": {
    "name": "ipython",
    "version": 3
   },
   "file_extension": ".py",
   "mimetype": "text/x-python",
   "name": "python",
   "nbconvert_exporter": "python",
   "pygments_lexer": "ipython3",
   "version": "3.9.6"
  }
 },
 "nbformat": 4,
 "nbformat_minor": 2
}
